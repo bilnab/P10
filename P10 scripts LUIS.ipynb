{
 "cells": [
  {
   "cell_type": "code",
   "execution_count": 1,
   "id": "39bcbdaf-fbd6-4d35-8e4e-4487cb0f4196",
   "metadata": {},
   "outputs": [
    {
     "name": "stdout",
     "output_type": "stream",
     "text": [
      "I'd like to book a trip to Atlantis from Caprica on Saturday, August 13, 2016 for 8 adults. I have a tight budget of 1700.\n"
     ]
    },
    {
     "data": {
      "text/plain": [
       "{'acts': [{'args': [{'val': 'book', 'key': 'intent'}], 'name': 'inform'},\n",
       "  {'args': [{'val': 'Atlantis', 'key': 'dst_city'},\n",
       "    {'val': 'Caprica', 'key': 'or_city'},\n",
       "    {'val': 'Saturday, August 13, 2016', 'key': 'str_date'},\n",
       "    {'val': '8', 'key': 'n_adults'},\n",
       "    {'val': '1700', 'key': 'budget'}],\n",
       "   'name': 'inform'}],\n",
       " 'acts_without_refs': [{'args': [{'val': 'book', 'key': 'intent'}],\n",
       "   'name': 'inform'},\n",
       "  {'args': [{'val': 'Atlantis', 'key': 'dst_city'},\n",
       "    {'val': 'Caprica', 'key': 'or_city'},\n",
       "    {'val': 'Saturday, August 13, 2016', 'key': 'str_date'},\n",
       "    {'val': '8', 'key': 'n_adults'},\n",
       "    {'val': '1700', 'key': 'budget'}],\n",
       "   'name': 'inform'}],\n",
       " 'active_frame': 1,\n",
       " 'frames': [{'info': {'intent': [{'val': 'book', 'negated': False}],\n",
       "    'budget': [{'val': '1700.0', 'negated': False}],\n",
       "    'dst_city': [{'val': 'Atlantis', 'negated': False}],\n",
       "    'or_city': [{'val': 'Caprica', 'negated': False}],\n",
       "    'str_date': [{'val': 'august 13', 'negated': False}],\n",
       "    'n_adults': [{'val': '8', 'negated': False}]},\n",
       "   'frame_id': 1,\n",
       "   'requests': [],\n",
       "   'frame_parent_id': None,\n",
       "   'binary_questions': [],\n",
       "   'compare_requests': []}]}"
      ]
     },
     "execution_count": 1,
     "metadata": {},
     "output_type": "execute_result"
    }
   ],
   "source": [
    "# json file : javascript object notation\n",
    "# primarly used for transmitting data between web app and a server\n",
    "# lightweight, text based, human-readable\n",
    "\n",
    "import json\n",
    "filename = \"data/frames/frames_ex.json\"\n",
    "with open(filename) as json_file:\n",
    "    exemple = json.load(json_file)\n",
    "print(exemple[0]['turns'][0]['text'])\n",
    "exemple[0]['turns'][0]['labels']"
   ]
  },
  {
   "cell_type": "markdown",
   "id": "bdc892fc-34d7-41af-8ec0-0c4fd49eef2b",
   "metadata": {},
   "source": [
    "on a besoin d'extraire les informations suivantes:\n",
    "* Ville de départ\n",
    "* Ville de destination\n",
    "* Date aller souhaitée du vol\n",
    "* Date retour souhaitée du vol\n",
    "* Budget maximum pour le prix total des billets\n"
   ]
  },
  {
   "cell_type": "code",
   "execution_count": 2,
   "id": "7145ed4e-55c3-4639-a6c7-394d20e00953",
   "metadata": {},
   "outputs": [],
   "source": [
    "import json\n",
    "filename = \"data/frames/frames.json\"\n",
    "\n",
    "turn_processed = 0\n",
    "with open(filename) as json_file:\n",
    "    # json.load() prend un file et retourne un json object\n",
    "    # le json object contient des pairs key/value\n",
    "    # key (strings) : value ,\n",
    "    data = json.load(json_file)\n",
    "\n",
    "    # d'aprés le premier bloc du json, l'info qui nous interesse\n",
    "    # se trouve dans turns\n",
    "\n",
    "    # recherche par user_id/ 1ere clé du json\n",
    "    list_example = []\n",
    "    for a, bloc_user in enumerate(data):\n",
    "        # if a == 15:\n",
    "        # break\n",
    "        for b, turn in enumerate(bloc_user['turns']):\n",
    "            # intitalisation\n",
    "            text = turn['text']\n",
    "            # print(text)\n",
    "            intent_found = False\n",
    "            intention = \"none\"\n",
    "\n",
    "            # un seul 'labels' par turn\n",
    "            for c, act in enumerate(turn['labels']['acts']):\n",
    "                # initialisation d'une liste d'entités pour un texte\n",
    "                entities = []\n",
    "\n",
    "                for d, arg in enumerate(act['args']):\n",
    "                    #print(b, \" turn \", c, \" act \", d, \" arg :\", arg)\n",
    "                    # entity dict avec 3 clés: entity, beg, end\n",
    "                    entity = dict()\n",
    "                    # nom de l'entité\n",
    "                    if arg['key'] == 'dst_city':\n",
    "                        entity['entityName'] = 'dst_city'\n",
    "                    elif arg['key'] == 'or_city':\n",
    "                        entity['entityName'] = 'or_city'\n",
    "                    elif arg['key'] == \"budget\":\n",
    "                        entity[\"entityName\"] = \"budget\"\n",
    "                    elif arg['key'] == \"str_date\":\n",
    "                        entity[\"entityName\"] = \"str_date\"\n",
    "                    elif arg['key'] == \"end_date\":\n",
    "                        entity[\"entityName\"] = \"end_date\"\n",
    "\n",
    "                        # si la key est une entité qu'on recherche et qu il y a une valeur\n",
    "                    if arg['key'] in [\"dst_city\", \"or_city\", \"budget\", \"str_date\", \"end_date\"]\\\n",
    "                            and 'val' in arg.keys():\n",
    "                        # position dans le text des entités : -1 si on ne trouve pas\n",
    "                        entity['startCharIndex'] = text.find(arg['val'])\n",
    "                        entity['endCharIndex'] = entity['startCharIndex'] + \\\n",
    "                            len(arg['val'])-1\n",
    "\n",
    "                        # on ajoute l'entité que si on trouve sa position\n",
    "                        if entity['startCharIndex'] != -1:\n",
    "                            entities.append(entity)\n",
    "\n",
    "                    if arg['key'] == 'intent':\n",
    "                        intent = arg['val']\n",
    "                        intent_found = True\n",
    "            # on ajoute l'exemple que si il a une intention trouvée\n",
    "            if (intent_found and len(entities) >= 1):  # len(entities) > 0:  #\n",
    "                example = dict()\n",
    "                example['text'] = text\n",
    "                example['entityLabels'] = entities\n",
    "                if intent_found:\n",
    "                    example['intentName'] = intent\n",
    "                else:\n",
    "                    example['intentName'] = \"none\"\n",
    "                list_example.append(example)\n",
    "        if len(list_example) > 30:\n",
    "            break"
   ]
  },
  {
   "cell_type": "code",
   "execution_count": 3,
   "id": "d0860444-63d6-4417-8321-1ba7d4115464",
   "metadata": {},
   "outputs": [
    {
     "data": {
      "text/plain": [
       "[{'text': \"I'd like to book a trip to Atlantis from Caprica on Saturday, August 13, 2016 for 8 adults. I have a tight budget of 1700.\",\n",
       "  'entityLabels': [{'entityName': 'dst_city',\n",
       "    'startCharIndex': 27,\n",
       "    'endCharIndex': 34},\n",
       "   {'entityName': 'or_city', 'startCharIndex': 41, 'endCharIndex': 47},\n",
       "   {'entityName': 'str_date', 'startCharIndex': 52, 'endCharIndex': 76},\n",
       "   {'entityName': 'budget', 'startCharIndex': 117, 'endCharIndex': 120}],\n",
       "  'intentName': 'book'},\n",
       " {'text': \"I'm looking for a trip to Gotham City leaving from Kakariko Village on Saturday, August 13, 2016. 3 adults for no more than $2400 USD.\",\n",
       "  'entityLabels': [{'entityName': 'dst_city',\n",
       "    'startCharIndex': 26,\n",
       "    'endCharIndex': 36},\n",
       "   {'entityName': 'or_city', 'startCharIndex': 51, 'endCharIndex': 66},\n",
       "   {'entityName': 'str_date', 'startCharIndex': 71, 'endCharIndex': 95},\n",
       "   {'entityName': 'budget', 'startCharIndex': 124, 'endCharIndex': 132}],\n",
       "  'intentName': 'book'},\n",
       " {'text': 'Hello, I would like to book a 2-week trip leaving from Melbourne on August 27. I would like to go to Mannheim.',\n",
       "  'entityLabels': [{'entityName': 'or_city',\n",
       "    'startCharIndex': 55,\n",
       "    'endCharIndex': 63},\n",
       "   {'entityName': 'dst_city', 'startCharIndex': 101, 'endCharIndex': 108},\n",
       "   {'entityName': 'str_date', 'startCharIndex': 68, 'endCharIndex': 76}],\n",
       "  'intentName': 'book'},\n",
       " {'text': 'Hi, I need to go to Mos Eisley for a wedding, leaving on Saturday, August 13, 2016 and returning on Tuesday, August 16, 2016. Preferably for $3700.',\n",
       "  'entityLabels': [{'entityName': 'dst_city',\n",
       "    'startCharIndex': 20,\n",
       "    'endCharIndex': 29},\n",
       "   {'entityName': 'str_date', 'startCharIndex': 57, 'endCharIndex': 81},\n",
       "   {'entityName': 'end_date', 'startCharIndex': 100, 'endCharIndex': 123},\n",
       "   {'entityName': 'budget', 'startCharIndex': 141, 'endCharIndex': 145}],\n",
       "  'intentName': 'book'},\n",
       " {'text': \"I'd like to get away from Monday, August 15, 2016 to Wednesday, August 31, 2016. My budget is $3200 and I would leave from Detroit.\",\n",
       "  'entityLabels': [{'entityName': 'str_date',\n",
       "    'startCharIndex': 26,\n",
       "    'endCharIndex': 48},\n",
       "   {'entityName': 'end_date', 'startCharIndex': 53, 'endCharIndex': 78},\n",
       "   {'entityName': 'budget', 'startCharIndex': 94, 'endCharIndex': 98},\n",
       "   {'entityName': 'or_city', 'startCharIndex': 123, 'endCharIndex': 129}],\n",
       "  'intentName': 'book'},\n",
       " {'text': 'Good day, please book me a trip from Vancouver, Jamaica to Recife. I would like to leave for 17 days on August 24.',\n",
       "  'entityLabels': [{'entityName': 'or_city',\n",
       "    'startCharIndex': 37,\n",
       "    'endCharIndex': 54},\n",
       "   {'entityName': 'dst_city', 'startCharIndex': 59, 'endCharIndex': 64},\n",
       "   {'entityName': 'str_date', 'startCharIndex': 104, 'endCharIndex': 112}],\n",
       "  'intentName': 'book'},\n",
       " {'text': \"Hi, I have a big family and we can't afford a big vacation, we want to go to Atlantis from Mos Eisley for $3600 at most.\",\n",
       "  'entityLabels': [{'entityName': 'dst_city',\n",
       "    'startCharIndex': 77,\n",
       "    'endCharIndex': 84},\n",
       "   {'entityName': 'or_city', 'startCharIndex': 91, 'endCharIndex': 100},\n",
       "   {'entityName': 'budget', 'startCharIndex': 106, 'endCharIndex': 110}],\n",
       "  'intentName': 'book'},\n",
       " {'text': \"Hi, I'm leaving from Diagon Alley and going to Coruscant on a budget of $3400. The dates don't matter, but I cannot afford anything over my budget.\",\n",
       "  'entityLabels': [{'entityName': 'or_city',\n",
       "    'startCharIndex': 21,\n",
       "    'endCharIndex': 32},\n",
       "   {'entityName': 'dst_city', 'startCharIndex': 47, 'endCharIndex': 55},\n",
       "   {'entityName': 'budget', 'startCharIndex': 72, 'endCharIndex': 76}],\n",
       "  'intentName': 'book'},\n",
       " {'text': 'Hi there, im from Vitoria and I want to go on vacation',\n",
       "  'entityLabels': [{'entityName': 'or_city',\n",
       "    'startCharIndex': 18,\n",
       "    'endCharIndex': 24}],\n",
       "  'intentName': 'book'},\n",
       " {'text': 'Hi, me and my family want to take a trip to Kakariko Village.',\n",
       "  'entityLabels': [{'entityName': 'dst_city',\n",
       "    'startCharIndex': 44,\n",
       "    'endCharIndex': 59}],\n",
       "  'intentName': 'book'},\n",
       " {'text': \"Hi, I'm looking for a trip  from Thursday, August 18, 2016 to Thursday, September 8, 2016 to Mexico City\",\n",
       "  'entityLabels': [{'entityName': 'str_date',\n",
       "    'startCharIndex': 33,\n",
       "    'endCharIndex': 57},\n",
       "   {'entityName': 'end_date', 'startCharIndex': 62, 'endCharIndex': 88},\n",
       "   {'entityName': 'dst_city', 'startCharIndex': 93, 'endCharIndex': 103}],\n",
       "  'intentName': 'book'},\n",
       " {'text': 'Hi im from Caprica looking to book a vacation to Hyrule',\n",
       "  'entityLabels': [{'entityName': 'or_city',\n",
       "    'startCharIndex': 11,\n",
       "    'endCharIndex': 17},\n",
       "   {'entityName': 'dst_city', 'startCharIndex': 49, 'endCharIndex': 54}],\n",
       "  'intentName': 'book'},\n",
       " {'text': 'HI im from Alexandria looking to book a 12 day vacation',\n",
       "  'entityLabels': [{'entityName': 'or_city',\n",
       "    'startCharIndex': 11,\n",
       "    'endCharIndex': 20}],\n",
       "  'intentName': 'book'},\n",
       " {'text': \"Hi. I'm looking for an adventure from Thursday, August 18 to Saturday, September 3. I'm thinking of going to Fortaleza. Yes, with free breakfast of course. I'm leaving from Essen.\",\n",
       "  'entityLabels': [{'entityName': 'str_date',\n",
       "    'startCharIndex': 38,\n",
       "    'endCharIndex': 56},\n",
       "   {'entityName': 'end_date', 'startCharIndex': 61, 'endCharIndex': 81},\n",
       "   {'entityName': 'dst_city', 'startCharIndex': 109, 'endCharIndex': 117},\n",
       "   {'entityName': 'or_city', 'startCharIndex': 173, 'endCharIndex': 177}],\n",
       "  'intentName': 'book'},\n",
       " {'text': \"Hi, my name is Harry Potter and I'd like to go to Hogsmeade leaving from Kakariko Village on Saturday, August 13th for 3 nights with 11 friends.\",\n",
       "  'entityLabels': [{'entityName': 'dst_city',\n",
       "    'startCharIndex': 50,\n",
       "    'endCharIndex': 58},\n",
       "   {'entityName': 'or_city', 'startCharIndex': 73, 'endCharIndex': 88},\n",
       "   {'entityName': 'str_date', 'startCharIndex': 93, 'endCharIndex': 113}],\n",
       "  'intentName': 'book'},\n",
       " {'text': \"Hi. I live in Busan and I'd like to go to Las Vegas from Wednesday August 17 to Monday September 5. What's available?\",\n",
       "  'entityLabels': [{'entityName': 'or_city',\n",
       "    'startCharIndex': 14,\n",
       "    'endCharIndex': 18},\n",
       "   {'entityName': 'dst_city', 'startCharIndex': 42, 'endCharIndex': 50},\n",
       "   {'entityName': 'str_date', 'startCharIndex': 57, 'endCharIndex': 75},\n",
       "   {'entityName': 'end_date', 'startCharIndex': 80, 'endCharIndex': 97}],\n",
       "  'intentName': 'book'},\n",
       " {'text': 'Hello, I want to leave from Seoul on August 27 and return on September 9. You can go to Manaus.',\n",
       "  'entityLabels': [{'entityName': 'or_city',\n",
       "    'startCharIndex': 28,\n",
       "    'endCharIndex': 32},\n",
       "   {'entityName': 'str_date', 'startCharIndex': 37, 'endCharIndex': 45},\n",
       "   {'entityName': 'end_date', 'startCharIndex': 61, 'endCharIndex': 71},\n",
       "   {'entityName': 'dst_city', 'startCharIndex': 88, 'endCharIndex': 93}],\n",
       "  'intentName': 'book'},\n",
       " {'text': \"I'm a polygamist and I'd like to travel with my 6 partners and 1 child to San Juan from Pittsburgh on a budget of 6600 USD\",\n",
       "  'entityLabels': [{'entityName': 'dst_city',\n",
       "    'startCharIndex': 74,\n",
       "    'endCharIndex': 81},\n",
       "   {'entityName': 'or_city', 'startCharIndex': 88, 'endCharIndex': 97},\n",
       "   {'entityName': 'budget', 'startCharIndex': 114, 'endCharIndex': 121}],\n",
       "  'intentName': 'book'},\n",
       " {'text': \"Hi, send me on a 10 day-trip away from Cairo. I'd like to leave August 15. Send me to Sendai. Money is not object\",\n",
       "  'entityLabels': [{'entityName': 'or_city',\n",
       "    'startCharIndex': 39,\n",
       "    'endCharIndex': 43},\n",
       "   {'entityName': 'str_date', 'startCharIndex': 64, 'endCharIndex': 72},\n",
       "   {'entityName': 'dst_city', 'startCharIndex': 86, 'endCharIndex': 91}],\n",
       "  'intentName': 'book'},\n",
       " {'text': \"Hi I need a break from Gotham City, the crime rate is just too high. I'd like to go to Hogsmead with 3 kids and 9 adults.\",\n",
       "  'entityLabels': [{'entityName': 'or_city',\n",
       "    'startCharIndex': 23,\n",
       "    'endCharIndex': 33},\n",
       "   {'entityName': 'dst_city', 'startCharIndex': 87, 'endCharIndex': 94}],\n",
       "  'intentName': 'book'},\n",
       " {'text': \"Hello! I live in Munich and I'd like to book any kind of trip between Monday, August 15th and Friday August 26th for 3 adults and 3 kids.\",\n",
       "  'entityLabels': [{'entityName': 'or_city',\n",
       "    'startCharIndex': 17,\n",
       "    'endCharIndex': 22},\n",
       "   {'entityName': 'str_date', 'startCharIndex': 70, 'endCharIndex': 88},\n",
       "   {'entityName': 'end_date', 'startCharIndex': 94, 'endCharIndex': 111}],\n",
       "  'intentName': 'book'},\n",
       " {'text': 'Hi im from punta cana looking to go on a trip',\n",
       "  'entityLabels': [{'entityName': 'or_city',\n",
       "    'startCharIndex': 11,\n",
       "    'endCharIndex': 20}],\n",
       "  'intentName': 'book'},\n",
       " {'text': 'Hey! You can help me by finding a trip to Philadelphia from Maceio.',\n",
       "  'entityLabels': [{'entityName': 'dst_city',\n",
       "    'startCharIndex': 42,\n",
       "    'endCharIndex': 53},\n",
       "   {'entityName': 'or_city', 'startCharIndex': 60, 'endCharIndex': 65}],\n",
       "  'intentName': 'book'},\n",
       " {'text': \"Good afternoon. I'd like to book a business trip to New York from Mannheim. What can you offer?\",\n",
       "  'entityLabels': [{'entityName': 'dst_city',\n",
       "    'startCharIndex': 52,\n",
       "    'endCharIndex': 59},\n",
       "   {'entityName': 'or_city', 'startCharIndex': 66, 'endCharIndex': 73}],\n",
       "  'intentName': 'book'},\n",
       " {'text': 'I would like a vacation for one in Mannheim from August 17 to September 7. My city of departure is Porto Alegre. It should cost less than $3000.',\n",
       "  'entityLabels': [{'entityName': 'dst_city',\n",
       "    'startCharIndex': 35,\n",
       "    'endCharIndex': 42},\n",
       "   {'entityName': 'str_date', 'startCharIndex': 49, 'endCharIndex': 57},\n",
       "   {'entityName': 'end_date', 'startCharIndex': 62, 'endCharIndex': 72},\n",
       "   {'entityName': 'or_city', 'startCharIndex': 99, 'endCharIndex': 110},\n",
       "   {'entityName': 'budget', 'startCharIndex': 138, 'endCharIndex': 142}],\n",
       "  'intentName': 'book'},\n",
       " {'text': 'Hi I am planning on booking a vacation soon, around August 27th',\n",
       "  'entityLabels': [{'entityName': 'str_date',\n",
       "    'startCharIndex': 52,\n",
       "    'endCharIndex': 62}],\n",
       "  'intentName': 'book'},\n",
       " {'text': 'Hi! I hear Hogsmeade has some excellent bars. Can you book me a trip there from Diagon Alley, leaving on August 13th? For 7 men and women',\n",
       "  'entityLabels': [{'entityName': 'dst_city',\n",
       "    'startCharIndex': 11,\n",
       "    'endCharIndex': 19},\n",
       "   {'entityName': 'or_city', 'startCharIndex': 80, 'endCharIndex': 91},\n",
       "   {'entityName': 'str_date', 'startCharIndex': 105, 'endCharIndex': 115}],\n",
       "  'intentName': 'book'},\n",
       " {'text': 'We are 3 adults and three kids looking for a vacation between August 18 and September 4',\n",
       "  'entityLabels': [{'entityName': 'str_date',\n",
       "    'startCharIndex': 62,\n",
       "    'endCharIndex': 70},\n",
       "   {'entityName': 'end_date', 'startCharIndex': 76, 'endCharIndex': 86}],\n",
       "  'intentName': 'book'},\n",
       " {'text': 'hi I’m looking to go on a trip to Caprica',\n",
       "  'entityLabels': [{'entityName': 'dst_city',\n",
       "    'startCharIndex': 34,\n",
       "    'endCharIndex': 40}],\n",
       "  'intentName': 'book'},\n",
       " {'text': 'Hi im looking to make a quick trip im from tampa and want to go to Dallas',\n",
       "  'entityLabels': [{'entityName': 'or_city',\n",
       "    'startCharIndex': 43,\n",
       "    'endCharIndex': 47},\n",
       "   {'entityName': 'dst_city', 'startCharIndex': 67, 'endCharIndex': 72}],\n",
       "  'intentName': 'book'},\n",
       " {'text': 'Hi im from Leon and looking to get away',\n",
       "  'entityLabels': [{'entityName': 'or_city',\n",
       "    'startCharIndex': 11,\n",
       "    'endCharIndex': 14}],\n",
       "  'intentName': 'book'}]"
      ]
     },
     "execution_count": 3,
     "metadata": {},
     "output_type": "execute_result"
    }
   ],
   "source": [
    "list_example"
   ]
  },
  {
   "cell_type": "markdown",
   "id": "5c36f1ac-bdb2-4f64-8a76-77a68c7f376d",
   "metadata": {},
   "source": [
    "### creation, initalisation de l'app et du client authoring"
   ]
  },
  {
   "cell_type": "code",
   "execution_count": 4,
   "id": "c2d8a8c4-16b6-4383-ae27-e2b2338759ed",
   "metadata": {},
   "outputs": [],
   "source": [
    "from azure.cognitiveservices.language.luis.authoring import LUISAuthoringClient\n",
    "from azure.cognitiveservices.language.luis.authoring.models import ApplicationCreateObject\n",
    "from azure.cognitiveservices.language.luis.runtime import LUISRuntimeClient\n",
    "from msrest.authentication import CognitiveServicesCredentials\n",
    "from functools import reduce\n",
    "\n",
    "import json\n",
    "import time\n",
    "import uuid\n",
    "\n",
    "authoringKey = '2e9b1d71c34c40e09607079d58f2140e'\n",
    "authoringEndpoint = 'https://p10luisinst-authoring.cognitiveservices.azure.com//'\n",
    "#predictionKey = 'f992f91ca10a40a787f153930f4da0d5'\n",
    "#predictionEndpoint = 'https://nab-luis-r.cognitiveservices.azure.com/'\n",
    "\n",
    "# We use a UUID to avoid name collisions.\n",
    "# nom de l'app\n",
    "appName = \"P10 mvp book\"  # + str(uuid.uuid4())\n",
    "versionId = \"0.1\"\n",
    "# nom de l'intention\n",
    "intentName = \"FlyMeIntent\"\n",
    "culture = \"en-us\""
   ]
  },
  {
   "cell_type": "code",
   "execution_count": 5,
   "id": "6a27ce02-6216-4dfe-8b55-f678dcf19f3b",
   "metadata": {},
   "outputs": [
    {
     "name": "stdout",
     "output_type": "stream",
     "text": [
      "Created LUIS app with ID 742890f8-77f9-4b15-8f45-257554e9e900\n"
     ]
    }
   ],
   "source": [
    "# creation d'un objet LuisAuthoringClient\n",
    "client = LUISAuthoringClient(\n",
    "    authoringEndpoint, CognitiveServicesCredentials(authoringKey))\n",
    "\n",
    "# L'app LUIS stocke le modele de traitement de language\n",
    "# qui contient intentions, entités et exemples d'enoncés (utterances)\n",
    "\n",
    "# definition des bases de l'app\n",
    "appDefinition = ApplicationCreateObject(\n",
    "    name=appName, initial_version_id=versionId, culture=culture)\n",
    "\n",
    "# creation de l'app et recup de l'id en string\n",
    "app_id = client.apps.add(appDefinition)\n",
    "\n",
    "# get app id - necessary for all other changes\n",
    "print(\"Created LUIS app with ID {}\".format(app_id))"
   ]
  },
  {
   "cell_type": "markdown",
   "id": "66bc8781-f50e-48d3-9dfe-0c24beee9584",
   "metadata": {},
   "source": [
    "### creation du schema"
   ]
  },
  {
   "cell_type": "code",
   "execution_count": 6,
   "id": "7ace1952-61e4-4842-9ce7-14eaa9a394e3",
   "metadata": {},
   "outputs": [
    {
     "data": {
      "text/plain": [
       "'2f3e3e8e-503b-40d8-85e6-1883654fc365'"
      ]
     },
     "execution_count": 6,
     "metadata": {},
     "output_type": "execute_result"
    }
   ],
   "source": [
    "# ajout d'un modèle d'intention:\n",
    "intention = \"book\"\n",
    "client.model.add_intent(app_id, versionId, intention)"
   ]
  },
  {
   "cell_type": "markdown",
   "id": "7884a8a7-dd97-429b-8fcf-ea380b762f2b",
   "metadata": {},
   "source": [
    "les differents types d'entités:  \n",
    "* https://docs.microsoft.com/fr-fr/azure/cognitive-services/luis/concepts/entities\n",
    "* **list entity**:\n",
    "    * https://docs.microsoft.com/fr-fr/azure/cognitive-services/luis/reference-entity-list?tabs=V2\n",
    "    * ensemble connu fixe de mots associés et de synonymes peu variables\n",
    "    * pas issu du ML\n",
    "    * exemple: liste \"navy\",\"royal\",\"baby\" pour blue\n",
    "* **regex entity**\n",
    "    * ideal pour du texte structuré\n",
    "    * exemple : vol [A-Z]{2} [0-9]{4} -> vol AS 1234 par ex\n",
    "* **prebuilt entity**\n",
    "    * https://docs.microsoft.com/fr-fr/azure/cognitive-services/luis/luis-reference-prebuilt-entities\n",
    "    * entités predefinies : date, heure, nombre ....variant selon la culture d'ou l'importance e la specifier\n",
    "* **pattern.any entity**\n",
    "    * https://docs.microsoft.com/fr-fr/azure/cognitive-services/luis/reference-entity-pattern-any?tabs=V2\n",
    "    * entité qui reserve un espace variable dans un énoncé pour marquer le debut et la fin d'uen entité\n",
    "    * convient aux phrases à structure lexicale fixe: \n",
    "        * exemple: puis je avoir un {entité plat} s'il vous plait ?\n",
    "    * à marquer dans les exemples de modèles Pattern et non dans les exemples d'intention\n",
    "* **ML entity**\n",
    "    * https://docs.microsoft.com/fr-fr/azure/cognitive-services/luis/reference-entity-machine-learned-entity?tabs=V3\n",
    "    * entity issu du machine learning\n",
    "    * utilise le contexte pour extraire des entités en fonction d'exemples etiquetés"
   ]
  },
  {
   "cell_type": "code",
   "execution_count": 7,
   "id": "8c07cb58-9c34-4bcf-8303-1516fa70c503",
   "metadata": {},
   "outputs": [
    {
     "data": {
      "text/plain": [
       "[<azure.cognitiveservices.language.luis.authoring.models._models_py3.PrebuiltEntityExtractor at 0x26ab139cdc0>,\n",
       " <azure.cognitiveservices.language.luis.authoring.models._models_py3.PrebuiltEntityExtractor at 0x26ab139cd90>,\n",
       " <azure.cognitiveservices.language.luis.authoring.models._models_py3.PrebuiltEntityExtractor at 0x26aacaa7fd0>]"
      ]
     },
     "execution_count": 7,
     "metadata": {},
     "output_type": "execute_result"
    }
   ],
   "source": [
    "# ajout de modèles d'entités prebuilt\n",
    "# ils serviront comme features prelabelisées à d'autres modèles d'entités\n",
    "\n",
    "# https://docs.microsoft.com/en-us/azure/cognitive-services/luis/luis-reference-prebuilt-entities#english-american-entity-support\n",
    "# https://docs.microsoft.com/en-us/azure/cognitive-services/luis/concepts/patterns-features\n",
    "\n",
    "# attention donner les bons noms qui commencent en minuscule\n",
    "# on aura une erreur si mauvais nom ou si deja added\n",
    "client.model.add_prebuilt(\n",
    "    app_id, versionId, prebuilt_extractor_names=[\"money\", \"geographyV2\", \"datetimeV2\"])"
   ]
  },
  {
   "cell_type": "code",
   "execution_count": 8,
   "id": "d6b36d2b-4427-4ea5-960c-09356506d8bd",
   "metadata": {},
   "outputs": [
    {
     "data": {
      "text/plain": [
       "<azure.cognitiveservices.language.luis.authoring.models._models_py3.OperationStatus at 0x26ab139cd60>"
      ]
     },
     "execution_count": 8,
     "metadata": {},
     "output_type": "execute_result"
    }
   ],
   "source": [
    "# ajout d'un modèle d'entité pour le budget du voyage\n",
    "Budget_Id = client.model.add_entity(\n",
    "    app_id, versionId, name=\"budget\")\n",
    "\n",
    "# ajout d'un currency entity prebuilt model comme feature de l'entité budget\n",
    "client.features.add_entity_feature(\n",
    "    app_id, versionId, Budget_Id, {\"model_name\": \"money\", \"is_required\": False})"
   ]
  },
  {
   "cell_type": "code",
   "execution_count": 9,
   "id": "9edb40aa-88e7-4d12-99f7-9bb080ad8406",
   "metadata": {},
   "outputs": [
    {
     "data": {
      "text/plain": [
       "<azure.cognitiveservices.language.luis.authoring.models._models_py3.OperationStatus at 0x26ab13d3e20>"
      ]
     },
     "execution_count": 9,
     "metadata": {},
     "output_type": "execute_result"
    }
   ],
   "source": [
    "# premier jet peut etre trop specifique: il faudra certainement raffiner en utilisant tous les tricks\n",
    "\n",
    "# ajout d'un modèle d'entité pour le lieu de depart\n",
    "From_Id = client.model.add_entity(\n",
    "    app_id, versionId, name=\"or_city\")\n",
    "\n",
    "# ajout d'un GeographyV2 entity prebuilt model comme feature de l'entité from\n",
    "client.features.add_entity_feature(\n",
    "    app_id, versionId, From_Id, {\"model_name\": \"geographyV2\", \"is_required\": False})\n",
    "\n",
    "# ajout d'un modèle d'entité pour le lieu d'arrivée\n",
    "To_Id = client.model.add_entity(\n",
    "    app_id, versionId, name=\"dst_city\")\n",
    "\n",
    "# ajout d'un GeographyV2 entity prebuilt model comme feature de l'entité to\n",
    "client.features.add_entity_feature(\n",
    "    app_id, versionId, To_Id, {\"model_name\": \"geographyV2\", \"is_required\": False})"
   ]
  },
  {
   "cell_type": "code",
   "execution_count": 10,
   "id": "89c8db5d-2e84-4640-89d2-be65351f2ac0",
   "metadata": {},
   "outputs": [
    {
     "data": {
      "text/plain": [
       "<azure.cognitiveservices.language.luis.authoring.models._models_py3.OperationStatus at 0x26ab13d33d0>"
      ]
     },
     "execution_count": 10,
     "metadata": {},
     "output_type": "execute_result"
    }
   ],
   "source": [
    "# premier jet peut etre trop specifique: il faudra certainement raffiner en utilisant tous les tricks\n",
    "\n",
    "# ajout d'un modèle d'entité pour la date de depart\n",
    "DateIn_Id = client.model.add_entity(\n",
    "    app_id, versionId, name=\"str_date\")\n",
    "\n",
    "# ajout d'un datetimeV2 entity prebuilt model comme feature de l'entité from\n",
    "client.features.add_entity_feature(\n",
    "    app_id, versionId, DateIn_Id, {\"model_name\": \"datetimeV2\", \"is_required\": False})\n",
    "\n",
    "# ajout d'un modèle d'entité pour la date de retour\n",
    "DateOut_Id = client.model.add_entity(\n",
    "    app_id, versionId, name=\"end_date\")\n",
    "\n",
    "# ajout d'un datetimeV2 entity prebuilt model comme feature de l'entité to\n",
    "client.features.add_entity_feature(\n",
    "    app_id, versionId, DateOut_Id, {\"model_name\": \"datetimeV2\", \"is_required\": False})"
   ]
  },
  {
   "cell_type": "code",
   "execution_count": 11,
   "id": "8f3ab3c2-9c83-4c69-a8e7-29bd233d9c00",
   "metadata": {},
   "outputs": [
    {
     "data": {
      "text/plain": [
       "[<azure.cognitiveservices.language.luis.authoring.models._models_py3.BatchLabelExample at 0x26ab13da640>,\n",
       " <azure.cognitiveservices.language.luis.authoring.models._models_py3.BatchLabelExample at 0x26ab13da8e0>,\n",
       " <azure.cognitiveservices.language.luis.authoring.models._models_py3.BatchLabelExample at 0x26ab13da880>,\n",
       " <azure.cognitiveservices.language.luis.authoring.models._models_py3.BatchLabelExample at 0x26ab13da820>,\n",
       " <azure.cognitiveservices.language.luis.authoring.models._models_py3.BatchLabelExample at 0x26ab13daa00>,\n",
       " <azure.cognitiveservices.language.luis.authoring.models._models_py3.BatchLabelExample at 0x26ab13dac40>,\n",
       " <azure.cognitiveservices.language.luis.authoring.models._models_py3.BatchLabelExample at 0x26ab13dad90>,\n",
       " <azure.cognitiveservices.language.luis.authoring.models._models_py3.BatchLabelExample at 0x26ab13dad60>,\n",
       " <azure.cognitiveservices.language.luis.authoring.models._models_py3.BatchLabelExample at 0x26ab13dae80>,\n",
       " <azure.cognitiveservices.language.luis.authoring.models._models_py3.BatchLabelExample at 0x26ab13daf40>,\n",
       " <azure.cognitiveservices.language.luis.authoring.models._models_py3.BatchLabelExample at 0x26ab13dac70>,\n",
       " <azure.cognitiveservices.language.luis.authoring.models._models_py3.BatchLabelExample at 0x26ab13dafd0>,\n",
       " <azure.cognitiveservices.language.luis.authoring.models._models_py3.BatchLabelExample at 0x26aacb7a1c0>,\n",
       " <azure.cognitiveservices.language.luis.authoring.models._models_py3.BatchLabelExample at 0x26aacb7a670>,\n",
       " <azure.cognitiveservices.language.luis.authoring.models._models_py3.BatchLabelExample at 0x26aacb1e370>,\n",
       " <azure.cognitiveservices.language.luis.authoring.models._models_py3.BatchLabelExample at 0x26ab13d3670>,\n",
       " <azure.cognitiveservices.language.luis.authoring.models._models_py3.BatchLabelExample at 0x26ab13d37c0>,\n",
       " <azure.cognitiveservices.language.luis.authoring.models._models_py3.BatchLabelExample at 0x26ab13d36d0>,\n",
       " <azure.cognitiveservices.language.luis.authoring.models._models_py3.BatchLabelExample at 0x26ab13d3910>,\n",
       " <azure.cognitiveservices.language.luis.authoring.models._models_py3.BatchLabelExample at 0x26ab13d3100>,\n",
       " <azure.cognitiveservices.language.luis.authoring.models._models_py3.BatchLabelExample at 0x26ab13d3370>,\n",
       " <azure.cognitiveservices.language.luis.authoring.models._models_py3.BatchLabelExample at 0x26ab13d3580>,\n",
       " <azure.cognitiveservices.language.luis.authoring.models._models_py3.BatchLabelExample at 0x26ab13d3220>,\n",
       " <azure.cognitiveservices.language.luis.authoring.models._models_py3.BatchLabelExample at 0x26ab13d35b0>,\n",
       " <azure.cognitiveservices.language.luis.authoring.models._models_py3.BatchLabelExample at 0x26ab13d31c0>,\n",
       " <azure.cognitiveservices.language.luis.authoring.models._models_py3.BatchLabelExample at 0x26ab13d3ca0>,\n",
       " <azure.cognitiveservices.language.luis.authoring.models._models_py3.BatchLabelExample at 0x26ab13d3970>,\n",
       " <azure.cognitiveservices.language.luis.authoring.models._models_py3.BatchLabelExample at 0x26ab13d37f0>,\n",
       " <azure.cognitiveservices.language.luis.authoring.models._models_py3.BatchLabelExample at 0x26ab13d3a30>,\n",
       " <azure.cognitiveservices.language.luis.authoring.models._models_py3.BatchLabelExample at 0x26ab13d3190>,\n",
       " <azure.cognitiveservices.language.luis.authoring.models._models_py3.BatchLabelExample at 0x26ab13d3d30>]"
      ]
     },
     "execution_count": 11,
     "metadata": {},
     "output_type": "execute_result"
    }
   ],
   "source": [
    "# ajout des enoncés labelisés\n",
    "# add pour un seul exemple/batch pour un lot d'exemples\n",
    "client.examples.batch(app_id, versionId, list_example, {\n",
    "    \"enableNestedChildren\": True})"
   ]
  },
  {
   "cell_type": "code",
   "execution_count": 12,
   "id": "68c48529-df0e-4f6f-b9c2-aa4605cf4fa4",
   "metadata": {},
   "outputs": [
    {
     "name": "stdout",
     "output_type": "stream",
     "text": [
      "Waiting 10 seconds for training to complete...\n",
      "Waiting 10 seconds for training to complete...\n",
      "trained\n"
     ]
    }
   ],
   "source": [
    "# entrainement du modèle LUIS\n",
    "# un modèle tres petit sera trés rapide à entrainer\n",
    "\n",
    "# lancement de l'entrainement\n",
    "client.train.train_version(app_id, versionId)\n",
    "waiting = True\n",
    "while waiting:\n",
    "    # recuperation du status pour savoir si l'netrainement a reussi (un par modèle)\n",
    "    info = client.train.get_status(app_id, versionId)\n",
    "\n",
    "    # get_status gets the training status of all models (intents and entities) for the specified LUIS app.\n",
    "    # Loop through them and make sure all are done.\n",
    "    # map : iterateur qui va renvoyer une liste de TRUE si on a du queued ou du in progress\n",
    "    # any renvoie true si au moins un element dun iterable est true\n",
    "    # waiting passe à false et on sort du while quand le train est fini\n",
    "    waiting = any(map(lambda x: 'Queued' ==\n",
    "                  x.details.status or 'InProgress' == x.details.status, info))\n",
    "    if waiting:\n",
    "        print(\"Waiting 10 seconds for training to complete...\")\n",
    "        time.sleep(10)\n",
    "    else:\n",
    "        print(\"trained\")\n",
    "        waiting = False"
   ]
  },
  {
   "cell_type": "code",
   "execution_count": 13,
   "id": "16eb338f-a167-4955-be29-86b968493763",
   "metadata": {},
   "outputs": [
    {
     "name": "stdout",
     "output_type": "stream",
     "text": [
      "model id: 2f3e3e8e-503b-40d8-85e6-1883654fc365 - status: Success - nb exemples: 31 - training date: 2022-07-05 12:30:18+00:00 - failure reason None\n",
      "model id: 5bc2ebeb-7e73-4625-966b-fa7742fac86a - status: Success - nb exemples: 31 - training date: 2022-07-05 12:30:18+00:00 - failure reason None\n",
      "model id: a9f35975-f3c4-44e4-9def-dbdc58c68f88 - status: Success - nb exemples: 31 - training date: 2022-07-05 12:30:18+00:00 - failure reason None\n",
      "model id: ff59aba1-df4c-4ff5-a7c2-7410c9d0428a - status: Success - nb exemples: 31 - training date: 2022-07-05 12:30:19+00:00 - failure reason None\n",
      "model id: 0b35c015-0719-4385-b881-455a75eb339c - status: Success - nb exemples: 31 - training date: 2022-07-05 12:30:21+00:00 - failure reason None\n",
      "model id: 87704c11-57ff-4f8a-bd79-d10f68f3c174 - status: Success - nb exemples: 31 - training date: 2022-07-05 12:30:21+00:00 - failure reason None\n",
      "model id: ba2e0735-380d-48f8-85ed-d9b218775acd - status: Success - nb exemples: 31 - training date: 2022-07-05 12:30:21+00:00 - failure reason None\n"
     ]
    }
   ],
   "source": [
    "for model in info:\n",
    "    print(\"model id:\", model.model_id, \"- status:\", model.details.status,\n",
    "          \"- nb exemples:\", model.details.example_count,\n",
    "          \"- training date:\", model.details.training_date_time,\n",
    "          \"- failure reason\", model.details.failure_reason)"
   ]
  },
  {
   "cell_type": "code",
   "execution_count": 14,
   "id": "384ba554-692f-4fe6-932d-11bd8b8a124d",
   "metadata": {},
   "outputs": [],
   "source": [
    "# publication du modele entrainé\n",
    "# vaut mieux mettre l'app en publi pour la query de n'importe quel endpoint\n",
    "\n",
    "# Note: For production scenarios, you should instead assign the app to your own LUIS prediction endpoint. See:\n",
    "# https://docs.microsoft.com/en-gb/azure/cognitive-services/luis/luis-how-to-azure-subscription#assign-a-resource-to-an-app\n",
    "\n",
    "client.apps.update_settings(app_id, is_public=True)\n",
    "responseEndpointInfo = client.apps.publish(app_id, versionId, is_staging=False)"
   ]
  },
  {
   "cell_type": "code",
   "execution_count": 15,
   "id": "b4f22055-01fb-4cd9-a5ac-f946df32ed1e",
   "metadata": {},
   "outputs": [
    {
     "name": "stdout",
     "output_type": "stream",
     "text": [
      "version_id: 0.1\n",
      "is_staging: False\n",
      "endpoint_url: https://westeurope.api.cognitive.microsoft.com/luis/v2.0/apps/742890f8-77f9-4b15-8f45-257554e9e900\n",
      "region: westeurope, northeurope, uksouth, ukwest, francecentral, francesouth, norwayeast, norwaywest\n",
      "assigned_endpoint_key: None\n",
      "endpoint_region: westeurope\n",
      "failed_regions: \n",
      "published_date_time: 2022-07-05T12:36:56Z\n"
     ]
    }
   ],
   "source": [
    "# https://docs.microsoft.com/en-us/python/api/azure-cognitiveservices-language-luis/azure.cognitiveservices.language.luis.authoring.models.productionorstagingendpointinfo?view=azure-python\n",
    "print(\"version_id:\", responseEndpointInfo.version_id)\n",
    "print(\"is_staging:\", responseEndpointInfo.is_staging)\n",
    "print(\"endpoint_url:\", responseEndpointInfo.endpoint_url)\n",
    "print(\"region:\", responseEndpointInfo.region)\n",
    "print(\"assigned_endpoint_key:\", responseEndpointInfo.assigned_endpoint_key)\n",
    "print(\"endpoint_region:\", responseEndpointInfo.endpoint_region)\n",
    "print(\"failed_regions:\", responseEndpointInfo.failed_regions)\n",
    "print(\"published_date_time:\", responseEndpointInfo.published_date_time)"
   ]
  },
  {
   "cell_type": "code",
   "execution_count": 16,
   "id": "c3728e24-b145-418a-8bb3-a67f6e8a55d6",
   "metadata": {},
   "outputs": [
    {
     "data": {
      "text/plain": [
       "'742890f8-77f9-4b15-8f45-257554e9e900'"
      ]
     },
     "execution_count": 16,
     "metadata": {},
     "output_type": "execute_result"
    }
   ],
   "source": [
    "app_id"
   ]
  },
  {
   "cell_type": "code",
   "execution_count": 17,
   "id": "d148b497-1a27-45b9-b59e-9b88220572bd",
   "metadata": {},
   "outputs": [],
   "source": [
    "# authentifier le client du runtime de prediction (on peut aussi utiliser l'authoring)\n",
    "# clientRuntime = LUISRuntimeClient(\n",
    "# endpoint=predictionEndpoint, credentials=CognitiveServicesCredentials(predictionKey))\n",
    "clientRuntime = LUISRuntimeClient(\n",
    "    endpoint=authoringEndpoint, credentials=CognitiveServicesCredentials(authoringKey))\n",
    "app_id = \"742890f8-77f9-4b15-8f45-257554e9e900\""
   ]
  },
  {
   "cell_type": "code",
   "execution_count": 18,
   "id": "289f8c43-91af-43d6-ba6a-3f1c05d992b1",
   "metadata": {},
   "outputs": [
    {
     "name": "stdout",
     "output_type": "stream",
     "text": [
      "top scoring intent: book\n",
      "Sentiment: None\n"
     ]
    }
   ],
   "source": [
    "# obtenir une prediction du runtime\n",
    "# \"Production\" = slot name\n",
    "predictionRequest = {\n",
    "    \"query\": \"Looking to go from San Francisco to MArseille. Book me for September 18 to 22. Let me know if its more than 2800 because thats all I can afford\"}\n",
    "# \"query\": \"I'd like to book a trip to Atlantis from Caprica on Saturday, August 13, 2016 for 8 adults. I have a tight budget of 1700.\"}\n",
    "\n",
    "# get_slot_prediction : slot_name:\"production\"\n",
    "# https://docs.microsoft.com/en-us/python/api/azure-cognitiveservices-language-luis/azure.cognitiveservices.language.luis.runtime.operations.predictionoperations?view=azure-python#get-slot-prediction-app-id--slot-name--prediction-request--verbose-none--show-all-intents-none--log-none--custom-headers-none--raw-false----operation-config-\"\n",
    "predictionResponse = clientRuntime.prediction.get_slot_prediction(\n",
    "    app_id, \"Production\", predictionRequest, verbose=True, show_all_intents=True)\n",
    "\n",
    "# predictionResponse = clientRuntime.prediction.get_version_prediction(\n",
    "#   app_id,versionId,predictionRequest, verbose=True, show_all_intents=True)\n",
    "\n",
    "print(\"top scoring intent: {}\".format(predictionResponse.prediction.top_intent))\n",
    "print(\"Sentiment: {}\".format(predictionResponse.prediction.sentiment))"
   ]
  },
  {
   "cell_type": "code",
   "execution_count": 19,
   "id": "d2b4a14e-b018-4a2d-b9db-fa46ea226708",
   "metadata": {},
   "outputs": [
    {
     "name": "stdout",
     "output_type": "stream",
     "text": [
      "Intent : book , Score : 0.99933076\n",
      "Intent : None , Score : 0.0027660364\n"
     ]
    }
   ],
   "source": [
    "for intent in predictionResponse.prediction.intents:\n",
    "    # print(\"\\t{}\".format(json.dumps(intent)))\n",
    "    print(\"Intent : {} , Score : {}\".format(\n",
    "        intent, predictionResponse.prediction.intents[intent].score))"
   ]
  },
  {
   "cell_type": "code",
   "execution_count": 20,
   "id": "e23a02d7-29e9-4afe-ba5a-2ed8aeac9140",
   "metadata": {},
   "outputs": [
    {
     "name": "stdout",
     "output_type": "stream",
     "text": [
      "Entity : or_city , Value : ['San Francisco']\n",
      "Entity : geographyV2 , Value : [{'value': 'San Francisco', 'type': 'city'}]\n",
      "Entity : dst_city , Value : ['MArseille']\n",
      "Entity : str_date , Value : ['September 18']\n",
      "Entity : datetimeV2 , Value : [{'type': 'daterange', 'values': [{'timex': '(XXXX-09-18,XXXX-09-22,P4D)', 'resolution': [{'start': '2021-09-18', 'end': '2021-09-22'}, {'start': '2022-09-18', 'end': '2022-09-22'}]}]}]\n",
      "Entity : $instance , Value : {'or_city': [{'type': 'or_city', 'text': 'San Francisco', 'startIndex': 19, 'length': 13, 'score': 0.9526819, 'modelTypeId': 1, 'modelType': 'Entity Extractor', 'recognitionSources': ['model']}], 'geographyV2': [{'type': 'builtin.geographyV2.city', 'text': 'San Francisco', 'startIndex': 19, 'length': 13, 'modelTypeId': 2, 'modelType': 'Prebuilt Entity Extractor', 'recognitionSources': ['model']}], 'dst_city': [{'type': 'dst_city', 'text': 'MArseille', 'startIndex': 36, 'length': 9, 'score': 0.94613343, 'modelTypeId': 1, 'modelType': 'Entity Extractor', 'recognitionSources': ['model']}], 'str_date': [{'type': 'str_date', 'text': 'September 18', 'startIndex': 59, 'length': 12, 'score': 0.5378463, 'modelTypeId': 1, 'modelType': 'Entity Extractor', 'recognitionSources': ['model']}], 'datetimeV2': [{'type': 'builtin.datetimeV2.daterange', 'text': 'September 18 to 22', 'startIndex': 59, 'length': 18, 'modelTypeId': 2, 'modelType': 'Prebuilt Entity Extractor', 'recognitionSources': ['model']}]}\n"
     ]
    }
   ],
   "source": [
    "for entity in predictionResponse.prediction.entities:\n",
    "    print(\"Entity : {} , Value : {}\".format(\n",
    "        entity, predictionResponse.prediction.entities[entity]))"
   ]
  },
  {
   "cell_type": "code",
   "execution_count": 21,
   "id": "ef174c86-bd59-4c17-8290-452b39d31c59",
   "metadata": {},
   "outputs": [
    {
     "name": "stdout",
     "output_type": "stream",
     "text": [
      "Entity_name : or_city , Value : [{'type': 'or_city', 'text': 'San Francisco', 'startIndex': 19, 'length': 13, 'score': 0.9526819, 'modelTypeId': 1, 'modelType': 'Entity Extractor', 'recognitionSources': ['model']}]\n",
      "Entity_name : geographyV2 , Value : [{'type': 'builtin.geographyV2.city', 'text': 'San Francisco', 'startIndex': 19, 'length': 13, 'modelTypeId': 2, 'modelType': 'Prebuilt Entity Extractor', 'recognitionSources': ['model']}]\n",
      "Entity_name : dst_city , Value : [{'type': 'dst_city', 'text': 'MArseille', 'startIndex': 36, 'length': 9, 'score': 0.94613343, 'modelTypeId': 1, 'modelType': 'Entity Extractor', 'recognitionSources': ['model']}]\n",
      "Entity_name : str_date , Value : [{'type': 'str_date', 'text': 'September 18', 'startIndex': 59, 'length': 12, 'score': 0.5378463, 'modelTypeId': 1, 'modelType': 'Entity Extractor', 'recognitionSources': ['model']}]\n",
      "Entity_name : datetimeV2 , Value : [{'type': 'builtin.datetimeV2.daterange', 'text': 'September 18 to 22', 'startIndex': 59, 'length': 18, 'modelTypeId': 2, 'modelType': 'Prebuilt Entity Extractor', 'recognitionSources': ['model']}]\n"
     ]
    }
   ],
   "source": [
    "for instance in predictionResponse.prediction.entities[\"$instance\"]:\n",
    "    print(\"Entity_name : {} , Value : {}\".format(\n",
    "        instance, predictionResponse.prediction.entities[\"$instance\"][instance]))"
   ]
  },
  {
   "cell_type": "markdown",
   "id": "f824e3c8-76f1-4ca8-a0e1-546931d29b8a",
   "metadata": {},
   "source": [
    "https://docs.microsoft.com/en-us/azure/cognitive-services/luis/developer-reference-resource  \n",
    "https://docs.microsoft.com/en-us/azure/cognitive-services/LUIS/luis-how-to-batch-test?tabs=rest"
   ]
  },
  {
   "cell_type": "markdown",
   "id": "225382e9-d804-491e-936b-f5c7a8f4fa22",
   "metadata": {},
   "source": [
    "### test de l'API"
   ]
  },
  {
   "cell_type": "code",
   "execution_count": 39,
   "id": "64aa7200-3ac5-45db-9e55-f43922a591f9",
   "metadata": {},
   "outputs": [
    {
     "name": "stdout",
     "output_type": "stream",
     "text": [
      "b'\"aceffde9-9b64-4ac0-9f05-93ee82b7589c\"'\n"
     ]
    }
   ],
   "source": [
    "# test creation via l'api\n",
    "\n",
    "# https://westus.dev.cognitive.microsoft.com/docs/services/luis-programmatic-apis-v3-0-preview/operations/5890b47c39e2bb052c5b9c2f\n",
    "\n",
    "# on a un endpoint en V2 plus haut\n",
    "# donc on test avec v2\n",
    "\n",
    "# LUIS Programmatic APIs v3.0-preview\n",
    "import http.client  # implement the client side of the HTTP and HTTPS protocols\n",
    "# functions and classes which help in opening URLs (mostly HTTP) in a complex world\n",
    "import urllib.request\n",
    "# standard interface to break Uniform Resource Locator (URL) strings up in components\n",
    "import urllib.parse\n",
    "import urllib.error  # defines the exception classes for exceptions raised by urllib.request\n",
    "import base64  # provides functions for encoding binary data to printable ASCII characters and decoding such encodings back to binary data\n",
    "\n",
    "######################\n",
    "headers = {\n",
    "    # Request headers\n",
    "    'Content-Type': 'application/json',\n",
    "    # key du nab-luis\n",
    "    'Ocp-Apim-Subscription-Key': '46739733dafd4a63bba53c8d40980f5e'\n",
    "}\n",
    "\n",
    "params = urllib.parse.urlencode({\n",
    "})\n",
    "\n",
    "body = {\n",
    "    \"name\": \"MyFirstDummyApp\",\n",
    "    \"description\": \"This is my first dummy application\",\n",
    "    \"culture\": \"en-us\",\n",
    "    \"tokenizerVersion\": \"1.0.0\",\n",
    "    \"usageScenario\": \"IoT\",\n",
    "    \"domain\": \"Comics\",\n",
    "    \"initialVersionId\": \"1.0\"}\n",
    "\n",
    "# https://nab-luis.cognitiveservices.azure.com/\n",
    "try:\n",
    "    conn = http.client.HTTPSConnection(\n",
    "        'westeurope.api.cognitive.microsoft.com')\n",
    "    conn.request(\"POST\", \"/luis/api/v2.0/apps/?%s\" %\n",
    "                 params, str(body), headers)\n",
    "    response = conn.getresponse()\n",
    "    data = response.read()\n",
    "    print(data)\n",
    "    conn.close()\n",
    "except Exception as e:\n",
    "    print(\"[Errno {0}] {1}\".format(e.errno, e.strerror))"
   ]
  },
  {
   "cell_type": "code",
   "execution_count": 44,
   "id": "203b35c3-6e69-4f3b-b8f1-09cb9fd24986",
   "metadata": {},
   "outputs": [
    {
     "name": "stdout",
     "output_type": "stream",
     "text": [
      "b'{\"code\":\"Success\",\"message\":\"Operation Successful\"}'\n"
     ]
    }
   ],
   "source": [
    "headers = {\n",
    "    # Request headers\n",
    "    'Ocp-Apim-Subscription-Key': '46739733dafd4a63bba53c8d40980f5e'\n",
    "}\n",
    "body = {}\n",
    "appId = \"aceffde9-9b64-4ac0-9f05-93ee82b7589c\"\n",
    "\n",
    "params = urllib.parse.urlencode({\n",
    "    # Request parameters\n",
    "    'force': 'false',\n",
    "})\n",
    "\n",
    "try:\n",
    "    conn = http.client.HTTPSConnection(\n",
    "        'westeurope.api.cognitive.microsoft.com')\n",
    "    conn.request(\n",
    "        \"DELETE\", \"/luis/api/v2.0/apps/\"+appId+\"?%s\" % params, \"{body}\", headers)\n",
    "    response = conn.getresponse()\n",
    "    data = response.read()\n",
    "    print(data)\n",
    "    conn.close()\n",
    "except Exception as e:\n",
    "    print(\"[Errno {0}] {1}\".format(e.errno, e.strerror))\n",
    "\n",
    "####################################"
   ]
  },
  {
   "cell_type": "code",
   "execution_count": 68,
   "id": "fa55b0ab-9689-4292-9111-874dae15ff06",
   "metadata": {},
   "outputs": [],
   "source": [
    "# pour envoyer des web post requests\n",
    "# The post() method sends a POST request to the specified url.\n",
    "# The post() method is used when you want to send some data to the server\n",
    "# syntaxe: requests.post(url, data={key: value}, json={key: value}, args)\n",
    "import json\n",
    "import requests\n",
    "# <YOUR-PREDICTION-ENDPOINT>/luis/v3.0-preview/apps/<YOUR-APP-ID>/versions/<YOUR-APP-VERSION-ID>/evaluations\n",
    "#url = 'https://luis2nab.cognitiveservices.azure.com/luis/v3.0-preview/apps/3e41b012-8072-4b01-8280-9cafba54ba91/versions/0.1/evaluations'\n",
    "url = 'https://westeurope.api.cognitive.microsoft.com/luis/v3.0-preview/apps/851fc277-528d-42fe-8e2a-4d7fb07c27de/versions/0.1/evaluations'\n",
    "myobj = {\n",
    "    \"LabeledTestSetUtterances\": [{\"text\": \"I'd like to book a trip to Atlantis from Caprica on Saturday, August 13, 2016 for 8 adults. I have a tight budget of 1700.\",\n",
    "                                  \"intent\": \"book\",\n",
    "                                  \"entities\": [{\"entity\": \"to\", \"startPos\": 27, \"endPos\": 34},\n",
    "                                               {\"entity\": \"from\",\n",
    "                                                \"startPos\": 41, \"endPos\": 47},\n",
    "                                               {\"entity\": \"datin\", \"startPos\": 52,\n",
    "                                                   \"endCharIndex\": 76},\n",
    "                                               {\"entity\": \"budget\", \"startPos\": 117, \"endPos\": 120}]}]\n",
    "}"
   ]
  },
  {
   "cell_type": "code",
   "execution_count": 69,
   "id": "6c0058c8-564e-4656-839d-6b618bea61e9",
   "metadata": {},
   "outputs": [],
   "source": [
    "#myfiles = {'file': open(\"my_json_file\", 'rb')}\n",
    "\n",
    "# use the 'headers' parameter to set the HTTP headers:\n",
    "x = requests.post(url, json=myobj, headers={\n",
    "                  'Ocp-Apim-Subscription-Key': '46739733dafd4a63bba53c8d40980f5e',\n",
    "                  'Content-Type': 'application/json'})"
   ]
  },
  {
   "cell_type": "code",
   "execution_count": 70,
   "id": "5f610f07-9f23-49dd-8535-65882a3edff0",
   "metadata": {},
   "outputs": [
    {
     "data": {
      "text/plain": [
       "'{\"operationId\":\"6b89b6cd-f4fb-46fa-9976-20068ae42989_637900704000000000\",\"status\":\"notstarted\",\"createdDateTime\":\"06/06/2022 22:25:50\",\"lastActionDateTime\":\"06/06/2022 22:25:50\"}'"
      ]
     },
     "execution_count": 70,
     "metadata": {},
     "output_type": "execute_result"
    }
   ],
   "source": [
    "x.text"
   ]
  },
  {
   "cell_type": "code",
   "execution_count": 71,
   "id": "9890fe8d-d853-4e1b-9772-defd1ada4178",
   "metadata": {},
   "outputs": [],
   "source": [
    "# get the status\n",
    "# <YOUR-PREDICTION-ENDPOINT > /luis/v3.0-preview/apps/<YOUR-APP-ID > /versions/<YOUR-APP-VERSION-ID > /evaluations/<YOUR-OPERATION-ID > /status\n",
    "url = 'https://westeurope.api.cognitive.microsoft.com/luis/v3.0-preview/apps/851fc277-528d-42fe-8e2a-4d7fb07c27de/versions/0.1/evaluations/6b89b6cd-f4fb-46fa-9976-20068ae42989_637900704000000000/status'\n",
    "x = requests.get(url, headers={\n",
    "    'Ocp-Apim-Subscription-Key': '46739733dafd4a63bba53c8d40980f5e'})"
   ]
  },
  {
   "cell_type": "code",
   "execution_count": 72,
   "id": "79dac5f7-b969-4881-8181-7f679c7991f0",
   "metadata": {},
   "outputs": [
    {
     "data": {
      "text/plain": [
       "'{\"errorDetails\":\"{\\\\\"error\\\\\":{\\\\\"code\\\\\":\\\\\"NotFound\\\\\",\\\\\"message\\\\\":\\\\\"The application wasn\\'t found. Please make sure that the application is published to this region.\\\\\"}}\",\"operationId\":\"6b89b6cd-f4fb-46fa-9976-20068ae42989_637900704000000000\",\"status\":\"failed\",\"createdDateTime\":\"06/06/2022 22:25:50\",\"lastActionDateTime\":\"06/06/2022 22:25:50\"}'"
      ]
     },
     "execution_count": 72,
     "metadata": {},
     "output_type": "execute_result"
    }
   ],
   "source": [
    "x.text"
   ]
  },
  {
   "cell_type": "code",
   "execution_count": 35,
   "id": "91eec084-7bbd-4661-b72a-a20507238dab",
   "metadata": {},
   "outputs": [],
   "source": [
    "recognizer_result = {\n",
    "    \"text\": \"i want to travel from paris to london on june 10 2022 and return on june 13 2022 with a budget of 2000 $\",\n",
    "    \"alteredText\": {},\n",
    "    \"intents\": {\n",
    "        \"book\": {\n",
    "            \"score\": 0.99797785\n",
    "        }\n",
    "    }}\n",
    "\n",
    "intent = (\n",
    "    sorted(\n",
    "        recognizer_result.get(\"intents\"),\n",
    "        key=recognizer_result.get(\"intents\").get,\n",
    "        reverse=True,\n",
    "    )[:1][0]\n",
    "    if recognizer_result.get(\"intents\")\n",
    "    else None\n",
    ")"
   ]
  },
  {
   "cell_type": "code",
   "execution_count": 36,
   "id": "9f1eeacb-f49a-42f3-9201-a143ad3a9842",
   "metadata": {},
   "outputs": [
    {
     "data": {
      "text/plain": [
       "'book'"
      ]
     },
     "execution_count": 36,
     "metadata": {},
     "output_type": "execute_result"
    }
   ],
   "source": [
    "intent"
   ]
  },
  {
   "cell_type": "code",
   "execution_count": 47,
   "id": "f9a1b5a8-a3d3-4a67-91b9-1677f83c3574",
   "metadata": {},
   "outputs": [
    {
     "data": {
      "text/plain": [
       "[]"
      ]
     },
     "execution_count": 47,
     "metadata": {},
     "output_type": "execute_result"
    }
   ],
   "source": [
    "recognizer_result = {\n",
    "    \"text\": \"i want to travel from paris to london on june 10 2022 and return on june 13 2022 with a budget of 2000 $\",\n",
    "    \"alteredText\": {},\n",
    "}\n",
    "\n",
    "# le {} permet detre retourner en defaut si rien pour eviter uen erreur su rle prochain get\n",
    "recognizer_result.get(\"intents\", {}).get(\"dst_city\", [])"
   ]
  },
  {
   "cell_type": "code",
   "execution_count": 51,
   "id": "0f708be4-fd7d-40f0-aaa6-e7225a1e0031",
   "metadata": {},
   "outputs": [],
   "source": [
    "h = recognizer_result.get(\"date\", [])\n",
    "if h:\n",
    "    print(\"wesh\")"
   ]
  },
  {
   "cell_type": "code",
   "execution_count": 52,
   "id": "2436192b-8855-4322-bb8e-d5287b04e311",
   "metadata": {},
   "outputs": [
    {
     "data": {
      "text/plain": [
       "[]"
      ]
     },
     "execution_count": 52,
     "metadata": {},
     "output_type": "execute_result"
    }
   ],
   "source": [
    "h"
   ]
  },
  {
   "cell_type": "code",
   "execution_count": 2,
   "id": "9d45b3ce-3e4e-43ea-9bf0-0e3d04ccdb53",
   "metadata": {},
   "outputs": [],
   "source": [
    "recognizer_result = {\n",
    "    \"text\": \"i want to travel from paris to london on june 10 2022 and return on june 13 2022 with a budget of 2000 $\",\n",
    "    \"alteredText\": {},\n",
    "    \"intents\": {\n",
    "        \"book\": {\n",
    "            \"score\": 0.99797785\n",
    "        }\n",
    "    },\n",
    "    \"entities\": {\n",
    "        \"$instance\": {\n",
    "            \"budget\": [\n",
    "                {\n",
    "                    \"startIndex\": 98,\n",
    "                    \"endIndex\": 104,\n",
    "                    \"text\": \"2000 $\",\n",
    "                    \"type\": \"budget\",\n",
    "                    \"score\": 0.7724428\n",
    "                }\n",
    "            ],\n",
    "            \"or_city\": [\n",
    "                {\n",
    "                    \"startIndex\": 22,\n",
    "                    \"endIndex\": 27,\n",
    "                    \"text\": \"paris\",\n",
    "                    \"type\": \"or_city\",\n",
    "                    \"score\": 0.84419185\n",
    "                }\n",
    "            ],\n",
    "            \"str_date\": [\n",
    "                {\n",
    "                    \"startIndex\": 41,\n",
    "                    \"endIndex\": 48,\n",
    "                    \"text\": \"june 10\",\n",
    "                    \"type\": \"str_date\",\n",
    "                    \"score\": 0.34791893\n",
    "                }\n",
    "            ],\n",
    "            \"datetime\": [\n",
    "                {\n",
    "                    \"startIndex\": 41,\n",
    "                    \"endIndex\": 53,\n",
    "                    \"text\": \"june 10 2022\",\n",
    "                    \"type\": \"builtin.datetimeV2.date\"\n",
    "                },\n",
    "                {\n",
    "                    \"startIndex\": 68,\n",
    "                    \"endIndex\": 80,\n",
    "                    \"text\": \"june 13 2022\",\n",
    "                    \"type\": \"builtin.datetimeV2.date\"\n",
    "                },\n",
    "                {\n",
    "                    \"startIndex\": 98,\n",
    "                    \"endIndex\": 102,\n",
    "                    \"text\": \"2000\",\n",
    "                    \"type\": \"builtin.datetimeV2.daterange\"\n",
    "                }\n",
    "            ],\n",
    "            \"geographyV2_city\": [\n",
    "                {\n",
    "                    \"startIndex\": 22,\n",
    "                    \"endIndex\": 27,\n",
    "                    \"text\": \"paris\",\n",
    "                    \"type\": \"builtin.geographyV2.city\"\n",
    "                },\n",
    "                {\n",
    "                    \"startIndex\": 31,\n",
    "                    \"endIndex\": 37,\n",
    "                    \"text\": \"london\",\n",
    "                    \"type\": \"builtin.geographyV2.city\"\n",
    "                }\n",
    "            ],\n",
    "            \"money\": [\n",
    "                {\n",
    "                    \"startIndex\": 98,\n",
    "                    \"endIndex\": 104,\n",
    "                    \"text\": \"2000 $\",\n",
    "                    \"type\": \"builtin.currency\"\n",
    "                }\n",
    "            ]\n",
    "        },\n",
    "\n",
    "\n",
    "        \"budget\": [\n",
    "            \"2000 $\"\n",
    "        ],\n",
    "        \"or_city\": [\n",
    "            \"paris\"\n",
    "        ],\n",
    "        \"str_date\": [\n",
    "            \"june 10\"\n",
    "        ],\n",
    "        \"datetime\": [\n",
    "            {\n",
    "                \"type\": \"date\",\n",
    "                \"timex\": [\n",
    "                    \"2022-06-10\"\n",
    "                ]\n",
    "            },\n",
    "            {\n",
    "                \"type\": \"date\",\n",
    "                \"timex\": [\n",
    "                    \"2022-06-13\"\n",
    "                ]\n",
    "            },\n",
    "            {\n",
    "                \"type\": \"daterange\",\n",
    "                \"timex\": [\n",
    "                    \"2000\"\n",
    "                ]\n",
    "            }\n",
    "        ],\n",
    "        \"geographyV2_city\": [\n",
    "            \"paris\",\n",
    "            \"london\"\n",
    "        ],\n",
    "        \"money\": [\n",
    "            {\n",
    "                \"number\": 2000,\n",
    "                \"units\": \"Dollar\"\n",
    "            }\n",
    "        ]\n",
    "    }\n",
    "}"
   ]
  },
  {
   "cell_type": "code",
   "execution_count": null,
   "id": "f39ced60-870b-4b64-9994-27a141471c01",
   "metadata": {},
   "outputs": [],
   "source": [
    "datetime_entities = recognizer_result.entities.get(\"datetime\", [])\n",
    "        for i in datetime_entities:\n",
    "        if datetime_entities[i][\"startIndex\"] == recognizer_result.entities.get(\"str_date\", []).get(\"startIndex\", {}):\n",
    "        print(\"builtin.datetimeV2.date\":\n",
    "    result.departure_date=datetime_entities[0]['timex'][0]"
   ]
  },
  {
   "cell_type": "code",
   "execution_count": 2,
   "id": "c4584787-8708-4151-a243-76034b737ace",
   "metadata": {},
   "outputs": [
    {
     "data": {
      "text/plain": [
       "True"
      ]
     },
     "execution_count": 2,
     "metadata": {},
     "output_type": "execute_result"
    }
   ],
   "source": [
    "\"2122-06-10\" >= \"2022-06-10\""
   ]
  },
  {
   "cell_type": "code",
   "execution_count": null,
   "id": "ab15ec47-b32f-4190-b4fb-4c876764fc16",
   "metadata": {},
   "outputs": [],
   "source": []
  }
 ],
 "metadata": {
  "kernelspec": {
   "display_name": ".venv",
   "language": "python",
   "name": ".venv"
  },
  "language_info": {
   "codemirror_mode": {
    "name": "ipython",
    "version": 3
   },
   "file_extension": ".py",
   "mimetype": "text/x-python",
   "name": "python",
   "nbconvert_exporter": "python",
   "pygments_lexer": "ipython3",
   "version": "3.8.8"
  }
 },
 "nbformat": 4,
 "nbformat_minor": 5
}
